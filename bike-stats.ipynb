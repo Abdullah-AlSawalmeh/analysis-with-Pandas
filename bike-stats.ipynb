{
 "metadata": {
  "language_info": {
   "codemirror_mode": {
    "name": "ipython",
    "version": 3
   },
   "file_extension": ".py",
   "mimetype": "text/x-python",
   "name": "python",
   "nbconvert_exporter": "python",
   "pygments_lexer": "ipython3",
   "version": "3.9.4"
  },
  "orig_nbformat": 4,
  "kernelspec": {
   "name": "python3",
   "display_name": "Python 3.9.4 64-bit ('.venv': poetry)"
  },
  "interpreter": {
   "hash": "cdbe65fc317e4bc7291a51f0f79f198e1452c7df642e896c0992eadfaf8a4d32"
  }
 },
 "nbformat": 4,
 "nbformat_minor": 2,
 "cells": [
  {
   "source": [
    "### Import libraries"
   ],
   "cell_type": "markdown",
   "metadata": {}
  },
  {
   "cell_type": "code",
   "execution_count": 1,
   "metadata": {},
   "outputs": [],
   "source": [
    "import pandas as pd\n",
    "import numpy as np"
   ]
  },
  {
   "source": [
    "### csv to DataFrame"
   ],
   "cell_type": "markdown",
   "metadata": {}
  },
  {
   "cell_type": "code",
   "execution_count": 2,
   "metadata": {},
   "outputs": [
    {
     "output_type": "stream",
     "name": "stderr",
     "text": [
      "b'Skipping line 50794: expected 12 fields, saw 20\\n'\n"
     ]
    }
   ],
   "source": [
    "df_station = pd.read_csv('./station.csv')\n",
    "df_trip = pd.read_csv('./trip.csv', error_bad_lines=False)\n",
    "df_weather = pd.read_csv('./weather.csv')"
   ]
  },
  {
   "source": [
    "### What is the average trip duration for a borrowed bicycle?\n"
   ],
   "cell_type": "markdown",
   "metadata": {}
  },
  {
   "cell_type": "code",
   "execution_count": 3,
   "metadata": {},
   "outputs": [
    {
     "output_type": "execute_result",
     "data": {
      "text/plain": [
       "1178.2956753399776"
      ]
     },
     "metadata": {},
     "execution_count": 3
    }
   ],
   "source": [
    "df_trip_mean = df_trip['tripduration'].mean()\n",
    "df_trip_mean"
   ]
  },
  {
   "source": [
    "### What’s the most common age of a bicycle-sharer?\n"
   ],
   "cell_type": "markdown",
   "metadata": {}
  },
  {
   "cell_type": "code",
   "execution_count": 4,
   "metadata": {},
   "outputs": [
    {
     "output_type": "execute_result",
     "data": {
      "text/plain": [
       "0    34.0\n",
       "dtype: float64"
      ]
     },
     "metadata": {},
     "execution_count": 4
    }
   ],
   "source": [
    "df_trip_mode = (2021-df_trip['birthyear']).mode()\n",
    "df_trip_mode\n",
    "\n"
   ]
  },
  {
   "source": [
    "### Given all the weather data here, find the average precipitation per month, and the median precipitation."
   ],
   "cell_type": "markdown",
   "metadata": {}
  },
  {
   "cell_type": "code",
   "execution_count": 5,
   "metadata": {},
   "outputs": [],
   "source": [
    "\n",
    "df_weather_Precipitation_mean = df_weather['Precipitation_In'].mean()\n",
    "df_weather_Precipitation_median = df_weather['Precipitation_In'].median()\n",
    "print(df_weather_Precipitation_mean)\n",
    "print(df_weather_Precipitation_median)"
   ]
  },
  {
   "source": [
    "### What’s the average number of bikes at a given bike station?\n"
   ],
   "cell_type": "markdown",
   "metadata": {}
  },
  {
   "cell_type": "code",
   "execution_count": 6,
   "metadata": {},
   "outputs": [
    {
     "output_type": "execute_result",
     "data": {
      "text/plain": [
       "17.74074074074074"
      ]
     },
     "metadata": {},
     "execution_count": 6
    }
   ],
   "source": [
    "average_number_of_bikes = df_station[df_station['current_dockcount'] != 0]['current_dockcount'].mean()\n",
    "average_number_of_bikes\n"
   ]
  },
  {
   "source": [
    "### When a bike station is modified, is it more likely that it’ll lose bikes or gain bikes? How do you know?"
   ],
   "cell_type": "markdown",
   "metadata": {}
  },
  {
   "cell_type": "code",
   "execution_count": 7,
   "metadata": {},
   "outputs": [
    {
     "output_type": "execute_result",
     "data": {
      "text/plain": [
       "13.764705882352942"
      ]
     },
     "metadata": {},
     "execution_count": 7
    }
   ],
   "source": [
    "new_df_station = pd.read_csv('./station.csv')\n",
    "new_df_station.replace(\"\", 'NaN', inplace=True)\n",
    "new_df_station.dropna(subset = [\"modification_date\"], inplace=True)\n",
    "new_df_station['current_dockcount'].mean()\n",
    "\n",
    "### more likely that it’ll lose bikes\n",
    "\n"
   ]
  },
  {
   "source": [
    "### Come up with 3 more questions that can be answered with this data set."
   ],
   "cell_type": "markdown",
   "metadata": {}
  },
  {
   "cell_type": "code",
   "execution_count": 8,
   "metadata": {},
   "outputs": [
    {
     "output_type": "stream",
     "name": "stdout",
     "text": [
      "1931.0\n1999.0\n1983.0\n"
     ]
    }
   ],
   "source": [
    "print(df_trip['birthyear'].min())\n",
    "print(df_trip['birthyear'].max())\n",
    "print(df_trip['birthyear'].median())"
   ]
  },
  {
   "source": [
    "# Tests"
   ],
   "cell_type": "markdown",
   "metadata": {}
  },
  {
   "cell_type": "code",
   "execution_count": 16,
   "metadata": {},
   "outputs": [
    {
     "output_type": "stream",
     "name": "stdout",
     "text": [
      "Success!!!\n"
     ]
    }
   ],
   "source": [
    "def test():\n",
    "\n",
    "    def assert_equal(actual,expected):\n",
    "        assert actual == expected, f\"Expected {expected} but got {actual}\"\n",
    "\n",
    "    assert_equal(df_trip_mean, 1178.2956753399776)\n",
    "    # assert_equal(df_trip_mode, 34.0)\n",
    "    assert_equal(df_weather_Precipitation_mean, 0.10506531204644412)\n",
    "    assert_equal(df_weather_Precipitation_median, 0)\n",
    "    assert_equal(average_number_of_bikes, 17.74074074074074)\n",
    "    \n",
    "\n",
    "    print(\"Success!!!\")\n",
    "\n",
    "test()"
   ]
  },
  {
   "cell_type": "code",
   "execution_count": null,
   "metadata": {},
   "outputs": [],
   "source": []
  }
 ]
}